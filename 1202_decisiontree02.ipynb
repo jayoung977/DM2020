{
  "nbformat": 4,
  "nbformat_minor": 0,
  "metadata": {
    "kernelspec": {
      "display_name": "Python 3",
      "language": "python",
      "name": "python3"
    },
    "language_info": {
      "codemirror_mode": {
        "name": "ipython",
        "version": 3
      },
      "file_extension": ".py",
      "mimetype": "text/x-python",
      "name": "python",
      "nbconvert_exporter": "python",
      "pygments_lexer": "ipython3",
      "version": "3.7.7"
    },
    "colab": {
      "name": "1202_decisiontree02.ipynb",
      "provenance": [],
      "include_colab_link": true
    }
  },
  "cells": [
    {
      "cell_type": "markdown",
      "metadata": {
        "id": "view-in-github",
        "colab_type": "text"
      },
      "source": [
        "<a href=\"https://colab.research.google.com/github/jayoung977/2020DM/blob/master/1202_decisiontree02.ipynb\" target=\"_parent\"><img src=\"https://colab.research.google.com/assets/colab-badge.svg\" alt=\"Open In Colab\"/></a>"
      ]
    },
    {
      "cell_type": "markdown",
      "metadata": {
        "id": "nKbKJt0rAgDT",
        "colab_type": "text"
      },
      "source": [
        "#**Decision Tree**\n"
      ]
    },
    {
      "cell_type": "code",
      "metadata": {
        "id": "zR3P0EdGIR3e",
        "colab_type": "code",
        "colab": {
          "base_uri": "https://localhost:8080/",
          "height": 54
        },
        "outputId": "bd28870b-a7b1-423c-961c-26b0fc8e5827"
      },
      "source": [
        "from google.colab import drive\n",
        "drive.mount('/content/drive')   #드라이브 마운트하기"
      ],
      "execution_count": 159,
      "outputs": [
        {
          "output_type": "stream",
          "text": [
            "Drive already mounted at /content/drive; to attempt to forcibly remount, call drive.mount(\"/content/drive\", force_remount=True).\n"
          ],
          "name": "stdout"
        }
      ]
    },
    {
      "cell_type": "code",
      "metadata": {
        "id": "s1ZhoMut842t",
        "colab_type": "code",
        "colab": {}
      },
      "source": [
        "from sklearn.metrics import accuracy_score #분류 성능 평가\n",
        "from sklearn.model_selection import train_test_split # train : test = 12 : 2 (문제 조건)\n",
        "from sklearn.tree import DecisionTreeClassifier\n",
        "from sklearn import tree\n",
        "from IPython.display import Image  # 시각화위함\n",
        "import pandas as pd\n",
        "import numpy as np\n",
        "import pydotplus\n",
        "import os"
      ],
      "execution_count": 160,
      "outputs": []
    },
    {
      "cell_type": "markdown",
      "metadata": {
        "id": "ee5cYjtIEwEI",
        "colab_type": "text"
      },
      "source": [
        "##1. 데이터 적제"
      ]
    },
    {
      "cell_type": "code",
      "metadata": {
        "id": "PlA9KMGu842w",
        "colab_type": "code",
        "colab": {
          "base_uri": "https://localhost:8080/",
          "height": 467
        },
        "outputId": "6d1c4342-60f5-44b5-b45b-3be751588e58"
      },
      "source": [
        "tennis_data = pd.read_csv('/content/drive/My Drive/데이터마이닝/PlayTennis.csv')\n",
        "tennis_data"
      ],
      "execution_count": 161,
      "outputs": [
        {
          "output_type": "execute_result",
          "data": {
            "text/html": [
              "<div>\n",
              "<style scoped>\n",
              "    .dataframe tbody tr th:only-of-type {\n",
              "        vertical-align: middle;\n",
              "    }\n",
              "\n",
              "    .dataframe tbody tr th {\n",
              "        vertical-align: top;\n",
              "    }\n",
              "\n",
              "    .dataframe thead th {\n",
              "        text-align: right;\n",
              "    }\n",
              "</style>\n",
              "<table border=\"1\" class=\"dataframe\">\n",
              "  <thead>\n",
              "    <tr style=\"text-align: right;\">\n",
              "      <th></th>\n",
              "      <th>Outlook</th>\n",
              "      <th>Temperature</th>\n",
              "      <th>Humidity</th>\n",
              "      <th>Wind</th>\n",
              "      <th>PlayTennis</th>\n",
              "    </tr>\n",
              "  </thead>\n",
              "  <tbody>\n",
              "    <tr>\n",
              "      <th>0</th>\n",
              "      <td>Sunny</td>\n",
              "      <td>Hot</td>\n",
              "      <td>High</td>\n",
              "      <td>Weak</td>\n",
              "      <td>No</td>\n",
              "    </tr>\n",
              "    <tr>\n",
              "      <th>1</th>\n",
              "      <td>Sunny</td>\n",
              "      <td>Hot</td>\n",
              "      <td>High</td>\n",
              "      <td>Strong</td>\n",
              "      <td>No</td>\n",
              "    </tr>\n",
              "    <tr>\n",
              "      <th>2</th>\n",
              "      <td>Overcast</td>\n",
              "      <td>Hot</td>\n",
              "      <td>High</td>\n",
              "      <td>Weak</td>\n",
              "      <td>Yes</td>\n",
              "    </tr>\n",
              "    <tr>\n",
              "      <th>3</th>\n",
              "      <td>Rain</td>\n",
              "      <td>Mild</td>\n",
              "      <td>High</td>\n",
              "      <td>Weak</td>\n",
              "      <td>Yes</td>\n",
              "    </tr>\n",
              "    <tr>\n",
              "      <th>4</th>\n",
              "      <td>Rain</td>\n",
              "      <td>Cool</td>\n",
              "      <td>Normal</td>\n",
              "      <td>Weak</td>\n",
              "      <td>Yes</td>\n",
              "    </tr>\n",
              "    <tr>\n",
              "      <th>5</th>\n",
              "      <td>Rain</td>\n",
              "      <td>Cool</td>\n",
              "      <td>Normal</td>\n",
              "      <td>Strong</td>\n",
              "      <td>No</td>\n",
              "    </tr>\n",
              "    <tr>\n",
              "      <th>6</th>\n",
              "      <td>Overcast</td>\n",
              "      <td>Cool</td>\n",
              "      <td>Normal</td>\n",
              "      <td>Strong</td>\n",
              "      <td>Yes</td>\n",
              "    </tr>\n",
              "    <tr>\n",
              "      <th>7</th>\n",
              "      <td>Sunny</td>\n",
              "      <td>Mild</td>\n",
              "      <td>High</td>\n",
              "      <td>Weak</td>\n",
              "      <td>No</td>\n",
              "    </tr>\n",
              "    <tr>\n",
              "      <th>8</th>\n",
              "      <td>Sunny</td>\n",
              "      <td>Cool</td>\n",
              "      <td>Normal</td>\n",
              "      <td>Weak</td>\n",
              "      <td>Yes</td>\n",
              "    </tr>\n",
              "    <tr>\n",
              "      <th>9</th>\n",
              "      <td>Rain</td>\n",
              "      <td>Mild</td>\n",
              "      <td>Normal</td>\n",
              "      <td>Weak</td>\n",
              "      <td>Yes</td>\n",
              "    </tr>\n",
              "    <tr>\n",
              "      <th>10</th>\n",
              "      <td>Sunny</td>\n",
              "      <td>Mild</td>\n",
              "      <td>Normal</td>\n",
              "      <td>Strong</td>\n",
              "      <td>Yes</td>\n",
              "    </tr>\n",
              "    <tr>\n",
              "      <th>11</th>\n",
              "      <td>Overcast</td>\n",
              "      <td>Mild</td>\n",
              "      <td>High</td>\n",
              "      <td>Strong</td>\n",
              "      <td>Yes</td>\n",
              "    </tr>\n",
              "    <tr>\n",
              "      <th>12</th>\n",
              "      <td>Overcast</td>\n",
              "      <td>Hot</td>\n",
              "      <td>Normal</td>\n",
              "      <td>Weak</td>\n",
              "      <td>Yes</td>\n",
              "    </tr>\n",
              "    <tr>\n",
              "      <th>13</th>\n",
              "      <td>Rain</td>\n",
              "      <td>Mild</td>\n",
              "      <td>High</td>\n",
              "      <td>Strong</td>\n",
              "      <td>No</td>\n",
              "    </tr>\n",
              "  </tbody>\n",
              "</table>\n",
              "</div>"
            ],
            "text/plain": [
              "     Outlook Temperature Humidity    Wind PlayTennis\n",
              "0      Sunny         Hot     High    Weak         No\n",
              "1      Sunny         Hot     High  Strong         No\n",
              "2   Overcast         Hot     High    Weak        Yes\n",
              "3       Rain        Mild     High    Weak        Yes\n",
              "4       Rain        Cool   Normal    Weak        Yes\n",
              "5       Rain        Cool   Normal  Strong         No\n",
              "6   Overcast        Cool   Normal  Strong        Yes\n",
              "7      Sunny        Mild     High    Weak         No\n",
              "8      Sunny        Cool   Normal    Weak        Yes\n",
              "9       Rain        Mild   Normal    Weak        Yes\n",
              "10     Sunny        Mild   Normal  Strong        Yes\n",
              "11  Overcast        Mild     High  Strong        Yes\n",
              "12  Overcast         Hot   Normal    Weak        Yes\n",
              "13      Rain        Mild     High  Strong         No"
            ]
          },
          "metadata": {
            "tags": []
          },
          "execution_count": 161
        }
      ]
    },
    {
      "cell_type": "markdown",
      "metadata": {
        "id": "79JyO7POE7n0",
        "colab_type": "text"
      },
      "source": [
        "##2. Feature Encoding"
      ]
    },
    {
      "cell_type": "code",
      "metadata": {
        "id": "VH6K_nNZ8422",
        "colab_type": "code",
        "colab": {
          "base_uri": "https://localhost:8080/",
          "height": 467
        },
        "outputId": "6b409fb8-61f1-4bac-ec52-723a8a135709"
      },
      "source": [
        "tennis_data.Outlook = tennis_data.Outlook.replace('Sunny',0)\n",
        "tennis_data.Outlook = tennis_data.Outlook.replace('Overcast', 1)\n",
        "tennis_data.Outlook = tennis_data.Outlook.replace('Rain',2)\n",
        "\n",
        "tennis_data.Temperature = tennis_data.Temperature.replace('Hot',3)\n",
        "tennis_data.Temperature = tennis_data.Temperature.replace('Mild',4)\n",
        "tennis_data.Temperature = tennis_data.Temperature.replace('Cool',5)\n",
        "\n",
        "tennis_data.Humidity = tennis_data.Humidity.replace('High',6)\n",
        "tennis_data.Humidity = tennis_data.Humidity.replace('Normal',7)\n",
        "\n",
        "tennis_data.Wind = tennis_data.Wind.replace('Weak',8)\n",
        "tennis_data.Wind = tennis_data.Wind.replace('Strong',9)\n",
        "\n",
        "tennis_data.PlayTennis = tennis_data.PlayTennis.replace('No',10)\n",
        "tennis_data.PlayTennis = tennis_data.PlayTennis.replace('Yes',11)\n",
        "\n",
        "tennis_data"
      ],
      "execution_count": 21,
      "outputs": [
        {
          "output_type": "execute_result",
          "data": {
            "text/html": [
              "<div>\n",
              "<style scoped>\n",
              "    .dataframe tbody tr th:only-of-type {\n",
              "        vertical-align: middle;\n",
              "    }\n",
              "\n",
              "    .dataframe tbody tr th {\n",
              "        vertical-align: top;\n",
              "    }\n",
              "\n",
              "    .dataframe thead th {\n",
              "        text-align: right;\n",
              "    }\n",
              "</style>\n",
              "<table border=\"1\" class=\"dataframe\">\n",
              "  <thead>\n",
              "    <tr style=\"text-align: right;\">\n",
              "      <th></th>\n",
              "      <th>Outlook</th>\n",
              "      <th>Temperature</th>\n",
              "      <th>Humidity</th>\n",
              "      <th>Wind</th>\n",
              "      <th>PlayTennis</th>\n",
              "    </tr>\n",
              "  </thead>\n",
              "  <tbody>\n",
              "    <tr>\n",
              "      <th>0</th>\n",
              "      <td>0</td>\n",
              "      <td>3</td>\n",
              "      <td>6</td>\n",
              "      <td>8</td>\n",
              "      <td>10</td>\n",
              "    </tr>\n",
              "    <tr>\n",
              "      <th>1</th>\n",
              "      <td>0</td>\n",
              "      <td>3</td>\n",
              "      <td>6</td>\n",
              "      <td>9</td>\n",
              "      <td>10</td>\n",
              "    </tr>\n",
              "    <tr>\n",
              "      <th>2</th>\n",
              "      <td>1</td>\n",
              "      <td>3</td>\n",
              "      <td>6</td>\n",
              "      <td>8</td>\n",
              "      <td>11</td>\n",
              "    </tr>\n",
              "    <tr>\n",
              "      <th>3</th>\n",
              "      <td>2</td>\n",
              "      <td>4</td>\n",
              "      <td>6</td>\n",
              "      <td>8</td>\n",
              "      <td>11</td>\n",
              "    </tr>\n",
              "    <tr>\n",
              "      <th>4</th>\n",
              "      <td>2</td>\n",
              "      <td>5</td>\n",
              "      <td>7</td>\n",
              "      <td>8</td>\n",
              "      <td>11</td>\n",
              "    </tr>\n",
              "    <tr>\n",
              "      <th>5</th>\n",
              "      <td>2</td>\n",
              "      <td>5</td>\n",
              "      <td>7</td>\n",
              "      <td>9</td>\n",
              "      <td>10</td>\n",
              "    </tr>\n",
              "    <tr>\n",
              "      <th>6</th>\n",
              "      <td>1</td>\n",
              "      <td>5</td>\n",
              "      <td>7</td>\n",
              "      <td>9</td>\n",
              "      <td>11</td>\n",
              "    </tr>\n",
              "    <tr>\n",
              "      <th>7</th>\n",
              "      <td>0</td>\n",
              "      <td>4</td>\n",
              "      <td>6</td>\n",
              "      <td>8</td>\n",
              "      <td>10</td>\n",
              "    </tr>\n",
              "    <tr>\n",
              "      <th>8</th>\n",
              "      <td>0</td>\n",
              "      <td>5</td>\n",
              "      <td>7</td>\n",
              "      <td>8</td>\n",
              "      <td>11</td>\n",
              "    </tr>\n",
              "    <tr>\n",
              "      <th>9</th>\n",
              "      <td>2</td>\n",
              "      <td>4</td>\n",
              "      <td>7</td>\n",
              "      <td>8</td>\n",
              "      <td>11</td>\n",
              "    </tr>\n",
              "    <tr>\n",
              "      <th>10</th>\n",
              "      <td>0</td>\n",
              "      <td>4</td>\n",
              "      <td>7</td>\n",
              "      <td>9</td>\n",
              "      <td>11</td>\n",
              "    </tr>\n",
              "    <tr>\n",
              "      <th>11</th>\n",
              "      <td>1</td>\n",
              "      <td>4</td>\n",
              "      <td>6</td>\n",
              "      <td>9</td>\n",
              "      <td>11</td>\n",
              "    </tr>\n",
              "    <tr>\n",
              "      <th>12</th>\n",
              "      <td>1</td>\n",
              "      <td>3</td>\n",
              "      <td>7</td>\n",
              "      <td>8</td>\n",
              "      <td>11</td>\n",
              "    </tr>\n",
              "    <tr>\n",
              "      <th>13</th>\n",
              "      <td>2</td>\n",
              "      <td>4</td>\n",
              "      <td>6</td>\n",
              "      <td>9</td>\n",
              "      <td>10</td>\n",
              "    </tr>\n",
              "  </tbody>\n",
              "</table>\n",
              "</div>"
            ],
            "text/plain": [
              "    Outlook  Temperature  Humidity  Wind  PlayTennis\n",
              "0         0            3         6     8          10\n",
              "1         0            3         6     9          10\n",
              "2         1            3         6     8          11\n",
              "3         2            4         6     8          11\n",
              "4         2            5         7     8          11\n",
              "5         2            5         7     9          10\n",
              "6         1            5         7     9          11\n",
              "7         0            4         6     8          10\n",
              "8         0            5         7     8          11\n",
              "9         2            4         7     8          11\n",
              "10        0            4         7     9          11\n",
              "11        1            4         6     9          11\n",
              "12        1            3         7     8          11\n",
              "13        2            4         6     9          10"
            ]
          },
          "metadata": {
            "tags": []
          },
          "execution_count": 21
        }
      ]
    },
    {
      "cell_type": "markdown",
      "metadata": {
        "id": "vaizUvHiF1Ko",
        "colab_type": "text"
      },
      "source": [
        "##3. 모델 생성"
      ]
    },
    {
      "cell_type": "code",
      "metadata": {
        "id": "4WHNLe3j8425",
        "colab_type": "code",
        "colab": {}
      },
      "source": [
        "X = np.array(pd.DataFrame(tennis_data, columns=['Outlook','Temperature', 'Humidity', 'Wind']))"
      ],
      "execution_count": 22,
      "outputs": []
    },
    {
      "cell_type": "code",
      "metadata": {
        "id": "eB8_5F0Z8428",
        "colab_type": "code",
        "colab": {}
      },
      "source": [
        "y = np.array(pd.DataFrame(tennis_data, columns=['PlayTennis']))"
      ],
      "execution_count": 23,
      "outputs": []
    },
    {
      "cell_type": "code",
      "metadata": {
        "id": "DGYkVsdT842_",
        "colab_type": "code",
        "colab": {}
      },
      "source": [
        "X_train, X_test, y_train, y_test = train_test_split(X,y,test_size= 2,random_state=42)\n",
        "#문제 조건: train : test = 12 : 2 , 따라서 test_size= 2\n",
        "#random_state=42는 값을 안변하게 하기 위해"
      ],
      "execution_count": 60,
      "outputs": []
    },
    {
      "cell_type": "code",
      "metadata": {
        "id": "YS-k_qLG843B",
        "colab_type": "code",
        "colab": {
          "base_uri": "https://localhost:8080/",
          "height": 227
        },
        "outputId": "6e8cc083-714d-448d-b96b-453283663c01"
      },
      "source": [
        "X_train"
      ],
      "execution_count": 61,
      "outputs": [
        {
          "output_type": "execute_result",
          "data": {
            "text/plain": [
              "array([[0, 3, 6, 8],\n",
              "       [1, 3, 7, 8],\n",
              "       [2, 5, 7, 9],\n",
              "       [0, 5, 7, 8],\n",
              "       [1, 3, 6, 8],\n",
              "       [0, 3, 6, 9],\n",
              "       [2, 4, 6, 9],\n",
              "       [2, 5, 7, 8],\n",
              "       [0, 4, 6, 8],\n",
              "       [0, 4, 7, 9],\n",
              "       [2, 4, 6, 8],\n",
              "       [1, 5, 7, 9]])"
            ]
          },
          "metadata": {
            "tags": []
          },
          "execution_count": 61
        }
      ]
    },
    {
      "cell_type": "code",
      "metadata": {
        "id": "o0KsUQHz843E",
        "colab_type": "code",
        "colab": {
          "base_uri": "https://localhost:8080/",
          "height": 52
        },
        "outputId": "a952d6b8-ed20-4837-cedc-a3b2c1569e11"
      },
      "source": [
        "X_test"
      ],
      "execution_count": 62,
      "outputs": [
        {
          "output_type": "execute_result",
          "data": {
            "text/plain": [
              "array([[2, 4, 7, 8],\n",
              "       [1, 4, 6, 9]])"
            ]
          },
          "metadata": {
            "tags": []
          },
          "execution_count": 62
        }
      ]
    },
    {
      "cell_type": "code",
      "metadata": {
        "id": "V0MTyKxU843H",
        "colab_type": "code",
        "colab": {
          "base_uri": "https://localhost:8080/",
          "height": 227
        },
        "outputId": "267f9f75-bfb4-4e6f-8106-2fb52a4d105f"
      },
      "source": [
        "y_train"
      ],
      "execution_count": 63,
      "outputs": [
        {
          "output_type": "execute_result",
          "data": {
            "text/plain": [
              "array([[10],\n",
              "       [11],\n",
              "       [10],\n",
              "       [11],\n",
              "       [11],\n",
              "       [10],\n",
              "       [10],\n",
              "       [11],\n",
              "       [10],\n",
              "       [11],\n",
              "       [11],\n",
              "       [11]])"
            ]
          },
          "metadata": {
            "tags": []
          },
          "execution_count": 63
        }
      ]
    },
    {
      "cell_type": "code",
      "metadata": {
        "id": "TBkxB_OM843K",
        "colab_type": "code",
        "colab": {
          "base_uri": "https://localhost:8080/",
          "height": 52
        },
        "outputId": "e7f52a22-b567-4976-d2c5-8efb28d3a564"
      },
      "source": [
        "y_test"
      ],
      "execution_count": 158,
      "outputs": [
        {
          "output_type": "execute_result",
          "data": {
            "text/plain": [
              "array([[11],\n",
              "       [11]])"
            ]
          },
          "metadata": {
            "tags": []
          },
          "execution_count": 158
        }
      ]
    },
    {
      "cell_type": "markdown",
      "metadata": {
        "id": "7bZBamcGGt5U",
        "colab_type": "text"
      },
      "source": [
        "##4. 최적 매개변수 탐색\n",
        "- 교차 검증과 그리드 탐색 사용\n",
        " **GridSearchCV**"
      ]
    },
    {
      "cell_type": "code",
      "metadata": {
        "id": "L7i6D2D6S5pn",
        "colab_type": "code",
        "colab": {
          "base_uri": "https://localhost:8080/",
          "height": 472
        },
        "outputId": "a89e1848-3509-44ba-b4c0-d463e34163dd"
      },
      "source": [
        "from sklearn.model_selection import GridSearchCV\n",
        "\n",
        "params = {'max_leaf_nodes': list(range(2, 100)), 'min_samples_split': [2, 3, 4],'max_depth' : [1, 2, 3]}\n",
        "grid_search_cv = GridSearchCV(DecisionTreeClassifier(random_state=42), params, cv=3, n_jobs=-1, verbose=1)\n",
        "grid_search_cv.fit(X_train, y_train) \n",
        "#max_leaf_nodes 값 달리해도 데이터 수가 작아서 최종 정확도 0.5나옴"
      ],
      "execution_count": 162,
      "outputs": [
        {
          "output_type": "stream",
          "text": [
            "Fitting 3 folds for each of 882 candidates, totalling 2646 fits\n"
          ],
          "name": "stdout"
        },
        {
          "output_type": "stream",
          "text": [
            "[Parallel(n_jobs=-1)]: Using backend LokyBackend with 2 concurrent workers.\n",
            "[Parallel(n_jobs=-1)]: Done 1542 tasks      | elapsed:    2.5s\n",
            "[Parallel(n_jobs=-1)]: Done 2646 out of 2646 | elapsed:    3.5s finished\n"
          ],
          "name": "stderr"
        },
        {
          "output_type": "execute_result",
          "data": {
            "text/plain": [
              "GridSearchCV(cv=3, error_score=nan,\n",
              "             estimator=DecisionTreeClassifier(ccp_alpha=0.0, class_weight=None,\n",
              "                                              criterion='gini', max_depth=None,\n",
              "                                              max_features=None,\n",
              "                                              max_leaf_nodes=None,\n",
              "                                              min_impurity_decrease=0.0,\n",
              "                                              min_impurity_split=None,\n",
              "                                              min_samples_leaf=1,\n",
              "                                              min_samples_split=2,\n",
              "                                              min_weight_fraction_leaf=0.0,\n",
              "                                              presort='deprecated',\n",
              "                                              random_state=42,\n",
              "                                              splitter='best'),\n",
              "             iid='deprecated', n_jobs=-1,\n",
              "             param_grid={'max_depth': [1, 2, 3],\n",
              "                         'max_leaf_nodes': [2, 3, 4, 5, 6, 7, 8, 9, 10, 11, 12,\n",
              "                                            13, 14, 15, 16, 17, 18, 19, 20, 21,\n",
              "                                            22, 23, 24, 25, 26, 27, 28, 29, 30,\n",
              "                                            31, ...],\n",
              "                         'min_samples_split': [2, 3, 4]},\n",
              "             pre_dispatch='2*n_jobs', refit=True, return_train_score=False,\n",
              "             scoring=None, verbose=1)"
            ]
          },
          "metadata": {
            "tags": []
          },
          "execution_count": 162
        }
      ]
    },
    {
      "cell_type": "code",
      "metadata": {
        "id": "agMGXBd5TAql",
        "colab_type": "code",
        "colab": {
          "base_uri": "https://localhost:8080/",
          "height": 122
        },
        "outputId": "7400cc2a-1a12-4ee5-ef22-df9c0f1e8472"
      },
      "source": [
        "#최적 모델 조건 값 찾기\n",
        "grid_search_cv.best_estimator_ \n",
        "#GridSearchCV는 최적의 모델로 다시 학습시키므로 모델 정확도 바로 평가 가능함"
      ],
      "execution_count": 163,
      "outputs": [
        {
          "output_type": "execute_result",
          "data": {
            "text/plain": [
              "DecisionTreeClassifier(ccp_alpha=0.0, class_weight=None, criterion='gini',\n",
              "                       max_depth=1, max_features=None, max_leaf_nodes=2,\n",
              "                       min_impurity_decrease=0.0, min_impurity_split=None,\n",
              "                       min_samples_leaf=1, min_samples_split=2,\n",
              "                       min_weight_fraction_leaf=0.0, presort='deprecated',\n",
              "                       random_state=42, splitter='best')"
            ]
          },
          "metadata": {
            "tags": []
          },
          "execution_count": 163
        }
      ]
    },
    {
      "cell_type": "code",
      "metadata": {
        "id": "aKDjgQ3wTdvq",
        "colab_type": "code",
        "colab": {
          "base_uri": "https://localhost:8080/",
          "height": 34
        },
        "outputId": "05b130ff-1940-488d-bb13-fdda45a37ba3"
      },
      "source": [
        "#모델 정확도 평가\n",
        "y_pred = grid_search_cv.predict(X_test)\n",
        "accuracy_score(y_test, y_pred)"
      ],
      "execution_count": 164,
      "outputs": [
        {
          "output_type": "execute_result",
          "data": {
            "text/plain": [
              "0.5"
            ]
          },
          "metadata": {
            "tags": []
          },
          "execution_count": 164
        }
      ]
    },
    {
      "cell_type": "markdown",
      "metadata": {
        "id": "mV6uthouS8LU",
        "colab_type": "text"
      },
      "source": [
        "#5. DecisionTree 훈련"
      ]
    },
    {
      "cell_type": "code",
      "metadata": {
        "id": "zvRSTxtU843O",
        "colab_type": "code",
        "colab": {}
      },
      "source": [
        "#그리드 탐색으로 얻은 최적 모델사용\n",
        "dt_clf = DecisionTreeClassifier(ccp_alpha=0.0, class_weight=None, criterion='gini',\n",
        "                       max_depth=1, max_features=None, max_leaf_nodes=2,\n",
        "                       min_impurity_decrease=0.0, min_impurity_split=None,\n",
        "                       min_samples_leaf=1, min_samples_split=2,\n",
        "                       min_weight_fraction_leaf=0.0, presort='deprecated',\n",
        "                       random_state=42, splitter='best')"
      ],
      "execution_count": 166,
      "outputs": []
    },
    {
      "cell_type": "markdown",
      "metadata": {
        "id": "-NKSfBvFJn1k",
        "colab_type": "text"
      },
      "source": [
        "결정트리는 전처리가 없는 대신에 훈련세트에 민감하고 overfit되기 쉽다. 따라서 여러가지 매개변수를 규제하여 overfit을 줄인다.결정트리의 대표적인 매개변수로는 질문의 수라고도 볼 수 있는  `max_depth`가 있다."
      ]
    },
    {
      "cell_type": "code",
      "metadata": {
        "id": "YJFR5txY843Q",
        "colab_type": "code",
        "colab": {}
      },
      "source": [
        "#학습\n",
        "dt_clf = dt_clf.fit(X_train, y_train)"
      ],
      "execution_count": 167,
      "outputs": []
    },
    {
      "cell_type": "code",
      "metadata": {
        "id": "h1rsV8jP843S",
        "colab_type": "code",
        "colab": {}
      },
      "source": [
        "dt_prediction = dt_clf.predict(X_test)"
      ],
      "execution_count": 168,
      "outputs": []
    },
    {
      "cell_type": "code",
      "metadata": {
        "id": "VR1cMDg3843W",
        "colab_type": "code",
        "colab": {
          "base_uri": "https://localhost:8080/",
          "height": 34
        },
        "outputId": "e7d1465a-fd85-407b-ab54-20d49af3c9f9"
      },
      "source": [
        "dt_prediction #원래 결과는 y_test = [11,11]"
      ],
      "execution_count": 169,
      "outputs": [
        {
          "output_type": "execute_result",
          "data": {
            "text/plain": [
              "array([11, 10])"
            ]
          },
          "metadata": {
            "tags": []
          },
          "execution_count": 169
        }
      ]
    },
    {
      "cell_type": "code",
      "metadata": {
        "id": "327Xs5Z47-_2",
        "colab_type": "code",
        "colab": {
          "base_uri": "https://localhost:8080/",
          "height": 34
        },
        "outputId": "f815578b-d288-4834-f878-0a0f5804ee1e"
      },
      "source": [
        "accuracy_score(y_test, dt_prediction) #정확도 평가는 위에서 한 것과 동일 한 값을 가짐"
      ],
      "execution_count": 170,
      "outputs": [
        {
          "output_type": "execute_result",
          "data": {
            "text/plain": [
              "0.5"
            ]
          },
          "metadata": {
            "tags": []
          },
          "execution_count": 170
        }
      ]
    },
    {
      "cell_type": "markdown",
      "metadata": {
        "id": "WHI6NxGKJQFJ",
        "colab_type": "text"
      },
      "source": [
        "#6. 시각화"
      ]
    },
    {
      "cell_type": "code",
      "metadata": {
        "id": "Jd2_9IkM843Y",
        "colab_type": "code",
        "colab": {}
      },
      "source": [
        "os.environ[\"PATH\"] += os.pathsep + 'C:/Program Files (x86)/Graphviz2.38/bin/'"
      ],
      "execution_count": 171,
      "outputs": []
    },
    {
      "cell_type": "code",
      "metadata": {
        "id": "5L9gJRED843b",
        "colab_type": "code",
        "colab": {}
      },
      "source": [
        "feature_names = tennis_data.columns.tolist()"
      ],
      "execution_count": 172,
      "outputs": []
    },
    {
      "cell_type": "code",
      "metadata": {
        "id": "TBkfOSIC843e",
        "colab_type": "code",
        "colab": {}
      },
      "source": [
        "feature_names = feature_names[0:4]"
      ],
      "execution_count": 173,
      "outputs": []
    },
    {
      "cell_type": "code",
      "metadata": {
        "id": "k5K74jtz843h",
        "colab_type": "code",
        "colab": {}
      },
      "source": [
        "target_name = np.array(['Play No', 'Play Yes'])"
      ],
      "execution_count": 174,
      "outputs": []
    },
    {
      "cell_type": "code",
      "metadata": {
        "id": "Cl8zj6zi843m",
        "colab_type": "code",
        "colab": {}
      },
      "source": [
        "dt_dot_data = tree.export_graphviz(dt_clf, out_file = None,\n",
        "                                  feature_names = feature_names,\n",
        "                                  class_names = target_name,\n",
        "                                  filled = True, rounded = True,\n",
        "                                  special_characters = True)"
      ],
      "execution_count": 176,
      "outputs": []
    },
    {
      "cell_type": "code",
      "metadata": {
        "id": "l8HgWx8j843q",
        "colab_type": "code",
        "colab": {}
      },
      "source": [
        "dt_graph = pydotplus.graph_from_dot_data(dt_dot_data)"
      ],
      "execution_count": 177,
      "outputs": []
    },
    {
      "cell_type": "code",
      "metadata": {
        "id": "EwTEVcv8843t",
        "colab_type": "code",
        "colab": {
          "base_uri": "https://localhost:8080/",
          "height": 277
        },
        "outputId": "ec4d6327-02a1-4728-a929-f117b27019f8"
      },
      "source": [
        "Image(dt_graph.create_png())"
      ],
      "execution_count": 178,
      "outputs": [
        {
          "output_type": "execute_result",
          "data": {
            "image/png": "[encoded data removed]",
            "text/plain": [
              "<IPython.core.display.Image object>"
            ]
          },
          "metadata": {
            "tags": []
          },
          "execution_count": 178
        }
      ]
    },
    {
      "cell_type": "markdown",
      "metadata": {
        "id": "1DUK1MnELXsx",
        "colab_type": "text"
      },
      "source": [
        "##**트리는 어떻게 예측을 만들어 내는가?**\n",
        "맨 위 루트노드에서 부터 리프노드까지 살펴보면\n",
        "처음 질문이 Humidity가 <= 6.5 인지를 물어보고 있다. Humidity <= 6.5를 먼저 물어본 이유는 불순도(불확실성)가 최대한 감소하는 방향으로 학습을 진행하기 때문이다.(정보획득)\n",
        "\n",
        "여기서 Humidity가 <= 6.5 이면 왼쪽 자식노드로 이동하고 아니라면 오른쪽 자식노드로 이동한다.(여기서 매개변수를 \n",
        "`max_depth=1`로 지정했기 때문에 질문은 하나이고 자식노드가 리프노드가 된다.) \n",
        "\n",
        "1) 루트노드\n",
        "먼저 루트노드를 살펴보자\n",
        "- gini= 0.486\n",
        "\n",
        ": gini속성은 불순도(impurity)를 측정하는 지표로써 한 노드의 sample이 모두 같은 class에 속하면 0이된다. \n",
        "\n",
        "gini불순도를 구하는 방법은 다음과 같다.\n",
        "G_I=1-∑_(k=1)^n▒p_(i,k)^2 \n",
        "\n",
        "1-(5/12)^2-(7/12)^2 =  0.486\n",
        "- samples = 12\n",
        "\n",
        "총 14개의 sample 중 trainset가 12개이다.\n",
        "\n",
        "- value = [5,7]\n",
        "\n",
        "Play Yes 클래스로 분류된 sample이 12개 중에서 총 5개이고 NO가 7개이다.\n",
        "\n",
        "- class = Play Yes\n",
        "\n",
        "Humidity가 <= 6.5 이면 Play Yes로 분류한다.\n",
        "\n",
        "\n",
        "(+) 사이킷런은 이진트리만 만드는 **CART알고리즘**을 사용한다. 따라서 **지니불순도** 값을 사용한다.\n",
        "(+) 결정 트리는 **화이트 박스 모델**로 예측과정을 쉽게 확인할 수 있다는 장점이 있다. "
      ]
    }
  ]
}